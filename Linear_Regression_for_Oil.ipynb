{
 "cells": [
  {
   "cell_type": "markdown",
   "id": "6dc2d5a5",
   "metadata": {},
   "source": [
    "## Oil Viscosity Determination in Python\n",
    "Input parameters and their values:\n",
    "Pressure (p) = 4475\n",
    "Temperature (t) = 140\n",
    "Bubble Point Pressure (pb) = 2745\n",
    "Solution gas oil ratio (Rs) = 600\n",
    "Gas specific gravity (Gsg) = 1\n",
    "Stock tank oil gravity (API) = 35"
   ]
  },
  {
   "cell_type": "code",
   "execution_count": 2,
   "id": "a09df3f2",
   "metadata": {},
   "outputs": [
    {
     "name": "stdout",
     "output_type": "stream",
     "text": [
      "Pressure (p): 4475\n",
      "Temperature (t): 140\n",
      "Bubble Point Pressure (pb): 2745\n",
      "Solution gas oil ratio (Rs): 600\n",
      "Gas specific gravity (Gsg): 1\n",
      "Stock tank oil gravity (API): 35\n"
     ]
    },
    {
     "data": {
      "text/plain": [
       "'Oil viscosity: 1.4819 cp'"
      ]
     },
     "execution_count": 2,
     "metadata": {},
     "output_type": "execute_result"
    }
   ],
   "source": [
    "from math import sqrt   #imported square root function from mathemathe\n",
    "\n",
    "def oil_viscosity_standingMethod():\n",
    "    \n",
    "    \"\"\"input our needed parameters\"\"\"\n",
    "    p = float(input(\"Pressure (p): \"))\n",
    "    t = float(input(\"Temperature (t): \"))\n",
    "    pb = float(input(\"Bubble Point Pressure (pb): \"))\n",
    "    Rs = float(input(\"Solution gas oil ratio (Rs): \"))\n",
    "    Gsg = float(input(\"Gas specific gravity (Gsg): \"))\n",
    "    API = float(input(\"Stock tank oil gravity (API): \"))\n",
    "    \n",
    "    \"\"\"determine our Oil specific gravity and Oil density\"\"\"\n",
    "    Osg = ((141.5)/(API + 131.5))\n",
    "    OD = (62.4*(Osg) + 0.0136*Rs*Gsg)/(0.972 + 0.000147*(Rs*sqrt(Gsg/Osg)+1.25*t)**1.175)\n",
    "    \n",
    "    \"\"\"obtain the dead oil viscosity and the saturated oil viscosity quantities\"\"\"\n",
    "    A = 10**(0.43+(8.33/API))\n",
    "    Uod = (0.32 + (18000000/(API**4.53))) * ((360/(t+200))**A)\n",
    "    a = Rs*((2.2*(10**-7)*Rs) - (7.4*(10**-4)))\n",
    "    c = 8.62*(10**-5) * Rs\n",
    "    d = 1.10 * (10**-3) * Rs\n",
    "    e = 3.74 * (10**-3) * Rs\n",
    "    b = ((0.68)/10**c) + ((0.25)/10**d) + ((0.062)/10**e)\n",
    "    Uob = (10**a) * (Uod**b)\n",
    "    \n",
    "    \"\"\"determine the oil viscosity\"\"\"\n",
    "    Uo = Uob + 0.001*(p-pb)*(0.024*(Uob**1.6) + 0.38*(Uob**0.56))\n",
    "    \n",
    "    \n",
    "    return f'Oil viscosity: {round(Uo, 4)} cp' #the rsult is disp\n",
    "\n",
    "oil_viscosity_standingMethod()"
   ]
  },
  {
   "cell_type": "code",
   "execution_count": null,
   "id": "1a4d5188",
   "metadata": {},
   "outputs": [],
   "source": []
  },
  {
   "cell_type": "code",
   "execution_count": 8,
   "id": "29d52871",
   "metadata": {},
   "outputs": [],
   "source": [
    "import matplotlib.pyplot as plt\n",
    "import pandas as pd\n",
    "import numpy as np"
   ]
  },
  {
   "cell_type": "code",
   "execution_count": 9,
   "id": "878be73c",
   "metadata": {},
   "outputs": [],
   "source": [
    "df = pd.read_csv('fluid.txt', sep='\\t')"
   ]
  },
  {
   "cell_type": "code",
   "execution_count": 10,
   "id": "d053f341",
   "metadata": {},
   "outputs": [
    {
     "data": {
      "text/html": [
       "<div>\n",
       "<style scoped>\n",
       "    .dataframe tbody tr th:only-of-type {\n",
       "        vertical-align: middle;\n",
       "    }\n",
       "\n",
       "    .dataframe tbody tr th {\n",
       "        vertical-align: top;\n",
       "    }\n",
       "\n",
       "    .dataframe thead th {\n",
       "        text-align: right;\n",
       "    }\n",
       "</style>\n",
       "<table border=\"1\" class=\"dataframe\">\n",
       "  <thead>\n",
       "    <tr style=\"text-align: right;\">\n",
       "      <th></th>\n",
       "      <th>Temperature (K)</th>\n",
       "      <th>Pressure (MPa)</th>\n",
       "      <th>Density (mol/l)</th>\n",
       "      <th>Volume (l/mol)</th>\n",
       "      <th>Internal Energy (kJ/mol)</th>\n",
       "      <th>Enthalpy (kJ/mol)</th>\n",
       "      <th>Entropy (J/mol*K)</th>\n",
       "      <th>Cv (J/mol*K)</th>\n",
       "      <th>Cp (J/mol*K)</th>\n",
       "      <th>Sound Spd. (m/s)</th>\n",
       "      <th>Joule-Thomson (K/MPa)</th>\n",
       "      <th>Viscosity (uPa*s)</th>\n",
       "      <th>Therm. Cond. (W/m*K)</th>\n",
       "      <th>Phase</th>\n",
       "    </tr>\n",
       "  </thead>\n",
       "  <tbody>\n",
       "    <tr>\n",
       "      <th>0</th>\n",
       "      <td>273.16</td>\n",
       "      <td>0.000000</td>\n",
       "      <td>0.000000</td>\n",
       "      <td>infinite</td>\n",
       "      <td>4.279300e+01</td>\n",
       "      <td>45.064000</td>\n",
       "      <td>-1.000000e+07</td>\n",
       "      <td>25.176</td>\n",
       "      <td>33.491</td>\n",
       "      <td>409.51</td>\n",
       "      <td>undefined</td>\n",
       "      <td>8.9480</td>\n",
       "      <td>0.016765</td>\n",
       "      <td>vapor</td>\n",
       "    </tr>\n",
       "    <tr>\n",
       "      <th>1</th>\n",
       "      <td>273.16</td>\n",
       "      <td>0.000612</td>\n",
       "      <td>0.000269</td>\n",
       "      <td>3711.0</td>\n",
       "      <td>4.278500e+01</td>\n",
       "      <td>45.055000</td>\n",
       "      <td>1.649400e+02</td>\n",
       "      <td>25.553</td>\n",
       "      <td>33.947</td>\n",
       "      <td>409.00</td>\n",
       "      <td>592.65</td>\n",
       "      <td>8.9458</td>\n",
       "      <td>0.016761</td>\n",
       "      <td>vapor</td>\n",
       "    </tr>\n",
       "    <tr>\n",
       "      <th>2</th>\n",
       "      <td>273.16</td>\n",
       "      <td>0.000612</td>\n",
       "      <td>55.497000</td>\n",
       "      <td>0.018019</td>\n",
       "      <td>-1.516900e-12</td>\n",
       "      <td>0.000011</td>\n",
       "      <td>-5.316900e-12</td>\n",
       "      <td>75.978</td>\n",
       "      <td>76.023</td>\n",
       "      <td>1402.30</td>\n",
       "      <td>-0.24142</td>\n",
       "      <td>1791.4000</td>\n",
       "      <td>0.555600</td>\n",
       "      <td>liquid</td>\n",
       "    </tr>\n",
       "    <tr>\n",
       "      <th>3</th>\n",
       "      <td>273.16</td>\n",
       "      <td>1.666700</td>\n",
       "      <td>55.544000</td>\n",
       "      <td>0.018004</td>\n",
       "      <td>5.436000e-04</td>\n",
       "      <td>0.030550</td>\n",
       "      <td>1.943600e-03</td>\n",
       "      <td>75.838</td>\n",
       "      <td>75.875</td>\n",
       "      <td>1404.90</td>\n",
       "      <td>-0.24127</td>\n",
       "      <td>1787.7000</td>\n",
       "      <td>0.556860</td>\n",
       "      <td>liquid</td>\n",
       "    </tr>\n",
       "    <tr>\n",
       "      <th>4</th>\n",
       "      <td>273.16</td>\n",
       "      <td>3.333300</td>\n",
       "      <td>55.591000</td>\n",
       "      <td>0.017989</td>\n",
       "      <td>1.060100e-03</td>\n",
       "      <td>0.061022</td>\n",
       "      <td>3.695900e-03</td>\n",
       "      <td>75.699</td>\n",
       "      <td>75.729</td>\n",
       "      <td>1407.60</td>\n",
       "      <td>-0.24113</td>\n",
       "      <td>1784.0000</td>\n",
       "      <td>0.558120</td>\n",
       "      <td>liquid</td>\n",
       "    </tr>\n",
       "  </tbody>\n",
       "</table>\n",
       "</div>"
      ],
      "text/plain": [
       "   Temperature (K)  Pressure (MPa)  Density (mol/l) Volume (l/mol)  \\\n",
       "0           273.16        0.000000         0.000000       infinite   \n",
       "1           273.16        0.000612         0.000269         3711.0   \n",
       "2           273.16        0.000612        55.497000       0.018019   \n",
       "3           273.16        1.666700        55.544000       0.018004   \n",
       "4           273.16        3.333300        55.591000       0.017989   \n",
       "\n",
       "   Internal Energy (kJ/mol)  Enthalpy (kJ/mol)  Entropy (J/mol*K)  \\\n",
       "0              4.279300e+01          45.064000      -1.000000e+07   \n",
       "1              4.278500e+01          45.055000       1.649400e+02   \n",
       "2             -1.516900e-12           0.000011      -5.316900e-12   \n",
       "3              5.436000e-04           0.030550       1.943600e-03   \n",
       "4              1.060100e-03           0.061022       3.695900e-03   \n",
       "\n",
       "   Cv (J/mol*K)  Cp (J/mol*K)  Sound Spd. (m/s) Joule-Thomson (K/MPa)  \\\n",
       "0        25.176        33.491            409.51             undefined   \n",
       "1        25.553        33.947            409.00                592.65   \n",
       "2        75.978        76.023           1402.30              -0.24142   \n",
       "3        75.838        75.875           1404.90              -0.24127   \n",
       "4        75.699        75.729           1407.60              -0.24113   \n",
       "\n",
       "   Viscosity (uPa*s)  Therm. Cond. (W/m*K)   Phase  \n",
       "0             8.9480              0.016765   vapor  \n",
       "1             8.9458              0.016761   vapor  \n",
       "2          1791.4000              0.555600  liquid  \n",
       "3          1787.7000              0.556860  liquid  \n",
       "4          1784.0000              0.558120  liquid  "
      ]
     },
     "execution_count": 10,
     "metadata": {},
     "output_type": "execute_result"
    }
   ],
   "source": [
    "df.head()"
   ]
  },
  {
   "cell_type": "code",
   "execution_count": 11,
   "id": "a2185245",
   "metadata": {},
   "outputs": [],
   "source": [
    "df = df.iloc[2:,:]"
   ]
  },
  {
   "cell_type": "code",
   "execution_count": 14,
   "id": "1923943a",
   "metadata": {},
   "outputs": [
    {
     "data": {
      "text/plain": [
       "(378, 14)"
      ]
     },
     "execution_count": 14,
     "metadata": {},
     "output_type": "execute_result"
    }
   ],
   "source": [
    "df.shape"
   ]
  },
  {
   "cell_type": "code",
   "execution_count": 15,
   "id": "52217c0f",
   "metadata": {},
   "outputs": [],
   "source": [
    "temp_visco = df[['Temperature (K)', 'Viscosity (uPa*s)']]"
   ]
  },
  {
   "cell_type": "code",
   "execution_count": 16,
   "id": "aef71a11",
   "metadata": {},
   "outputs": [],
   "source": [
    "temp_visco.columns = ['Temperature', 'Viscosity']"
   ]
  },
  {
   "cell_type": "code",
   "execution_count": 17,
   "id": "18770176",
   "metadata": {},
   "outputs": [
    {
     "data": {
      "text/html": [
       "<div>\n",
       "<style scoped>\n",
       "    .dataframe tbody tr th:only-of-type {\n",
       "        vertical-align: middle;\n",
       "    }\n",
       "\n",
       "    .dataframe tbody tr th {\n",
       "        vertical-align: top;\n",
       "    }\n",
       "\n",
       "    .dataframe thead th {\n",
       "        text-align: right;\n",
       "    }\n",
       "</style>\n",
       "<table border=\"1\" class=\"dataframe\">\n",
       "  <thead>\n",
       "    <tr style=\"text-align: right;\">\n",
       "      <th></th>\n",
       "      <th>Temperature</th>\n",
       "      <th>Viscosity</th>\n",
       "    </tr>\n",
       "  </thead>\n",
       "  <tbody>\n",
       "    <tr>\n",
       "      <th>2</th>\n",
       "      <td>273.16</td>\n",
       "      <td>1791.4</td>\n",
       "    </tr>\n",
       "    <tr>\n",
       "      <th>3</th>\n",
       "      <td>273.16</td>\n",
       "      <td>1787.7</td>\n",
       "    </tr>\n",
       "    <tr>\n",
       "      <th>4</th>\n",
       "      <td>273.16</td>\n",
       "      <td>1784.0</td>\n",
       "    </tr>\n",
       "    <tr>\n",
       "      <th>5</th>\n",
       "      <td>273.16</td>\n",
       "      <td>1780.4</td>\n",
       "    </tr>\n",
       "    <tr>\n",
       "      <th>6</th>\n",
       "      <td>273.16</td>\n",
       "      <td>1776.9</td>\n",
       "    </tr>\n",
       "    <tr>\n",
       "      <th>...</th>\n",
       "      <td>...</td>\n",
       "      <td>...</td>\n",
       "    </tr>\n",
       "    <tr>\n",
       "      <th>375</th>\n",
       "      <td>273.16</td>\n",
       "      <td>2450.9</td>\n",
       "    </tr>\n",
       "    <tr>\n",
       "      <th>376</th>\n",
       "      <td>273.16</td>\n",
       "      <td>2455.6</td>\n",
       "    </tr>\n",
       "    <tr>\n",
       "      <th>377</th>\n",
       "      <td>273.16</td>\n",
       "      <td>2460.3</td>\n",
       "    </tr>\n",
       "    <tr>\n",
       "      <th>378</th>\n",
       "      <td>273.16</td>\n",
       "      <td>2465.0</td>\n",
       "    </tr>\n",
       "    <tr>\n",
       "      <th>379</th>\n",
       "      <td>273.16</td>\n",
       "      <td>2469.8</td>\n",
       "    </tr>\n",
       "  </tbody>\n",
       "</table>\n",
       "<p>378 rows × 2 columns</p>\n",
       "</div>"
      ],
      "text/plain": [
       "     Temperature  Viscosity\n",
       "2         273.16     1791.4\n",
       "3         273.16     1787.7\n",
       "4         273.16     1784.0\n",
       "5         273.16     1780.4\n",
       "6         273.16     1776.9\n",
       "..           ...        ...\n",
       "375       273.16     2450.9\n",
       "376       273.16     2455.6\n",
       "377       273.16     2460.3\n",
       "378       273.16     2465.0\n",
       "379       273.16     2469.8\n",
       "\n",
       "[378 rows x 2 columns]"
      ]
     },
     "execution_count": 17,
     "metadata": {},
     "output_type": "execute_result"
    }
   ],
   "source": [
    "temp_visco"
   ]
  },
  {
   "cell_type": "code",
   "execution_count": 18,
   "id": "24d4fe81",
   "metadata": {},
   "outputs": [
    {
     "data": {
      "text/plain": [
       "Text(0, 0.5, 'Viscosity (uPa*s)')"
      ]
     },
     "execution_count": 18,
     "metadata": {},
     "output_type": "execute_result"
    },
    {
     "data": {
      "image/png": "[encoded data removed]",
      "text/plain": [
       "<Figure size 432x288 with 1 Axes>"
      ]
     },
     "metadata": {
      "needs_background": "light"
     },
     "output_type": "display_data"
    }
   ],
   "source": [
    "plt.scatter(temp_visco['Temperature'],temp_visco['Viscosity'])\n",
    "plt.xlabel('Temperature (K)')\n",
    "plt.ylabel('Viscosity (uPa*s)')"
   ]
  },
  {
   "cell_type": "code",
   "execution_count": 19,
   "id": "f2a6adad",
   "metadata": {},
   "outputs": [
    {
     "data": {
      "text/plain": [
       "count    3.780000e+02\n",
       "mean     2.731600e+02\n",
       "std      2.333669e-12\n",
       "min      2.731600e+02\n",
       "25%      2.731600e+02\n",
       "50%      2.731600e+02\n",
       "75%      2.731600e+02\n",
       "max      2.731600e+02\n",
       "Name: Temperature, dtype: float64"
      ]
     },
     "execution_count": 19,
     "metadata": {},
     "output_type": "execute_result"
    }
   ],
   "source": [
    "temp_visco['Temperature'].describe()"
   ]
  },
  {
   "cell_type": "code",
   "execution_count": 20,
   "id": "60bf1536",
   "metadata": {},
   "outputs": [
    {
     "name": "stdout",
     "output_type": "stream",
     "text": [
      "<class 'pandas.core.frame.DataFrame'>\n",
      "RangeIndex: 378 entries, 2 to 379\n",
      "Data columns (total 2 columns):\n",
      " #   Column       Non-Null Count  Dtype  \n",
      "---  ------       --------------  -----  \n",
      " 0   Temperature  378 non-null    float64\n",
      " 1   Viscosity    378 non-null    float64\n",
      "dtypes: float64(2)\n",
      "memory usage: 6.0 KB\n"
     ]
    }
   ],
   "source": [
    "temp_visco.info()"
   ]
  },
  {
   "cell_type": "code",
   "execution_count": 21,
   "id": "6c12e98e",
   "metadata": {},
   "outputs": [],
   "source": [
    "import seaborn as sns"
   ]
  },
  {
   "cell_type": "code",
   "execution_count": 22,
   "id": "df1262d0",
   "metadata": {},
   "outputs": [
    {
     "name": "stderr",
     "output_type": "stream",
     "text": [
      "C:\\Users\\MY PC\\anaconda3\\lib\\site-packages\\seaborn\\_decorators.py:36: FutureWarning: Pass the following variable as a keyword arg: x. From version 0.12, the only valid positional argument will be `data`, and passing other arguments without an explicit keyword will result in an error or misinterpretation.\n",
      "  warnings.warn(\n"
     ]
    },
    {
     "data": {
      "text/plain": [
       "<AxesSubplot:xlabel='Temperature'>"
      ]
     },
     "execution_count": 22,
     "metadata": {},
     "output_type": "execute_result"
    },
    {
     "data": {
      "image/png": "[encoded data removed]",
      "text/plain": [
       "<Figure size 432x288 with 1 Axes>"
      ]
     },
     "metadata": {
      "needs_background": "light"
     },
     "output_type": "display_data"
    }
   ],
   "source": [
    "sns.boxplot(temp_visco['Temperature'])"
   ]
  },
  {
   "cell_type": "code",
   "execution_count": 23,
   "id": "252a8ee9",
   "metadata": {},
   "outputs": [
    {
     "data": {
      "text/plain": [
       "count     378.000000\n",
       "mean     1891.831481\n",
       "std       244.918516\n",
       "min      1649.500000\n",
       "25%      1683.775000\n",
       "50%      1785.750000\n",
       "75%      2068.575000\n",
       "max      2469.800000\n",
       "Name: Viscosity, dtype: float64"
      ]
     },
     "execution_count": 23,
     "metadata": {},
     "output_type": "execute_result"
    }
   ],
   "source": [
    "temp_visco['Viscosity'].describe()"
   ]
  },
  {
   "cell_type": "code",
   "execution_count": 24,
   "id": "0280344c",
   "metadata": {},
   "outputs": [
    {
     "name": "stderr",
     "output_type": "stream",
     "text": [
      "C:\\Users\\MY PC\\anaconda3\\lib\\site-packages\\seaborn\\_decorators.py:36: FutureWarning: Pass the following variable as a keyword arg: x. From version 0.12, the only valid positional argument will be `data`, and passing other arguments without an explicit keyword will result in an error or misinterpretation.\n",
      "  warnings.warn(\n"
     ]
    },
    {
     "data": {
      "text/plain": [
       "<AxesSubplot:xlabel='Viscosity'>"
      ]
     },
     "execution_count": 24,
     "metadata": {},
     "output_type": "execute_result"
    },
    {
     "data": {
      "image/png": "[encoded data removed]",
      "text/plain": [
       "<Figure size 432x288 with 1 Axes>"
      ]
     },
     "metadata": {
      "needs_background": "light"
     },
     "output_type": "display_data"
    }
   ],
   "source": [
    "sns.boxplot(temp_visco['Viscosity'])"
   ]
  },
  {
   "cell_type": "code",
   "execution_count": 25,
   "id": "95b5f8eb",
   "metadata": {},
   "outputs": [
    {
     "data": {
      "text/plain": [
       "<seaborn.axisgrid.FacetGrid at 0x2859440d1f0>"
      ]
     },
     "execution_count": 25,
     "metadata": {},
     "output_type": "execute_result"
    },
    {
     "data": {
      "image/png": "[encoded data removed]",
      "text/plain": [
       "<Figure size 360x360 with 1 Axes>"
      ]
     },
     "metadata": {
      "needs_background": "light"
     },
     "output_type": "display_data"
    }
   ],
   "source": [
    "sns.displot(temp_visco['Viscosity'])"
   ]
  },
  {
   "cell_type": "code",
   "execution_count": 26,
   "id": "69bba51c",
   "metadata": {},
   "outputs": [
    {
     "data": {
      "text/plain": [
       "<AxesSubplot:xlabel='Temperature', ylabel='Count'>"
      ]
     },
     "execution_count": 26,
     "metadata": {},
     "output_type": "execute_result"
    },
    {
     "data": {
      "image/png": "[encoded data removed]",
      "text/plain": [
       "<Figure size 432x288 with 1 Axes>"
      ]
     },
     "metadata": {
      "needs_background": "light"
     },
     "output_type": "display_data"
    }
   ],
   "source": [
    "sns.histplot(temp_visco['Temperature'])"
   ]
  },
  {
   "cell_type": "code",
   "execution_count": 27,
   "id": "7ed245c5",
   "metadata": {},
   "outputs": [],
   "source": [
    "X = temp_visco['Temperature'].values.reshape(-1, 1)\n",
    "y = temp_visco['Viscosity'].values.reshape(-1, 1)"
   ]
  },
  {
   "cell_type": "code",
   "execution_count": 28,
   "id": "3f2f5d1e",
   "metadata": {},
   "outputs": [
    {
     "data": {
      "text/html": [
       "<div>\n",
       "<style scoped>\n",
       "    .dataframe tbody tr th:only-of-type {\n",
       "        vertical-align: middle;\n",
       "    }\n",
       "\n",
       "    .dataframe tbody tr th {\n",
       "        vertical-align: top;\n",
       "    }\n",
       "\n",
       "    .dataframe thead th {\n",
       "        text-align: right;\n",
       "    }\n",
       "</style>\n",
       "<table border=\"1\" class=\"dataframe\">\n",
       "  <thead>\n",
       "    <tr style=\"text-align: right;\">\n",
       "      <th></th>\n",
       "      <th>Temperature</th>\n",
       "      <th>Viscosity</th>\n",
       "    </tr>\n",
       "  </thead>\n",
       "  <tbody>\n",
       "    <tr>\n",
       "      <th>2</th>\n",
       "      <td>273.16</td>\n",
       "      <td>1791.4</td>\n",
       "    </tr>\n",
       "    <tr>\n",
       "      <th>3</th>\n",
       "      <td>273.16</td>\n",
       "      <td>1787.7</td>\n",
       "    </tr>\n",
       "    <tr>\n",
       "      <th>4</th>\n",
       "      <td>273.16</td>\n",
       "      <td>1784.0</td>\n",
       "    </tr>\n",
       "    <tr>\n",
       "      <th>5</th>\n",
       "      <td>273.16</td>\n",
       "      <td>1780.4</td>\n",
       "    </tr>\n",
       "    <tr>\n",
       "      <th>6</th>\n",
       "      <td>273.16</td>\n",
       "      <td>1776.9</td>\n",
       "    </tr>\n",
       "  </tbody>\n",
       "</table>\n",
       "</div>"
      ],
      "text/plain": [
       "   Temperature  Viscosity\n",
       "2       273.16     1791.4\n",
       "3       273.16     1787.7\n",
       "4       273.16     1784.0\n",
       "5       273.16     1780.4\n",
       "6       273.16     1776.9"
      ]
     },
     "execution_count": 28,
     "metadata": {},
     "output_type": "execute_result"
    }
   ],
   "source": [
    "temp_visco.head()"
   ]
  },
  {
   "cell_type": "code",
   "execution_count": 29,
   "id": "4f03554e",
   "metadata": {},
   "outputs": [],
   "source": [
    "temp = temp_visco['Temperature'].to_numpy()"
   ]
  },
  {
   "cell_type": "code",
   "execution_count": 30,
   "id": "f7140d15",
   "metadata": {},
   "outputs": [
    {
     "data": {
      "text/plain": [
       "array([273.16])"
      ]
     },
     "execution_count": 30,
     "metadata": {},
     "output_type": "execute_result"
    }
   ],
   "source": [
    "temp_visco['Temperature'].unique()"
   ]
  },
  {
   "cell_type": "code",
   "execution_count": 31,
   "id": "b7067023",
   "metadata": {},
   "outputs": [],
   "source": [
    "visco_density = df[['Viscosity (uPa*s)', 'Density (mol/l)']]"
   ]
  },
  {
   "cell_type": "code",
   "execution_count": 32,
   "id": "178a9dd0",
   "metadata": {},
   "outputs": [
    {
     "data": {
      "text/html": [
       "<div>\n",
       "<style scoped>\n",
       "    .dataframe tbody tr th:only-of-type {\n",
       "        vertical-align: middle;\n",
       "    }\n",
       "\n",
       "    .dataframe tbody tr th {\n",
       "        vertical-align: top;\n",
       "    }\n",
       "\n",
       "    .dataframe thead th {\n",
       "        text-align: right;\n",
       "    }\n",
       "</style>\n",
       "<table border=\"1\" class=\"dataframe\">\n",
       "  <thead>\n",
       "    <tr style=\"text-align: right;\">\n",
       "      <th></th>\n",
       "      <th>Viscosity (uPa*s)</th>\n",
       "      <th>Density (mol/l)</th>\n",
       "    </tr>\n",
       "  </thead>\n",
       "  <tbody>\n",
       "    <tr>\n",
       "      <th>2</th>\n",
       "      <td>1791.4</td>\n",
       "      <td>55.497</td>\n",
       "    </tr>\n",
       "    <tr>\n",
       "      <th>3</th>\n",
       "      <td>1787.7</td>\n",
       "      <td>55.544</td>\n",
       "    </tr>\n",
       "    <tr>\n",
       "      <th>4</th>\n",
       "      <td>1784.0</td>\n",
       "      <td>55.591</td>\n",
       "    </tr>\n",
       "    <tr>\n",
       "      <th>5</th>\n",
       "      <td>1780.4</td>\n",
       "      <td>55.637</td>\n",
       "    </tr>\n",
       "    <tr>\n",
       "      <th>6</th>\n",
       "      <td>1776.9</td>\n",
       "      <td>55.684</td>\n",
       "    </tr>\n",
       "    <tr>\n",
       "      <th>...</th>\n",
       "      <td>...</td>\n",
       "      <td>...</td>\n",
       "    </tr>\n",
       "    <tr>\n",
       "      <th>375</th>\n",
       "      <td>2450.9</td>\n",
       "      <td>65.898</td>\n",
       "    </tr>\n",
       "    <tr>\n",
       "      <th>376</th>\n",
       "      <td>2455.6</td>\n",
       "      <td>65.916</td>\n",
       "    </tr>\n",
       "    <tr>\n",
       "      <th>377</th>\n",
       "      <td>2460.3</td>\n",
       "      <td>65.934</td>\n",
       "    </tr>\n",
       "    <tr>\n",
       "      <th>378</th>\n",
       "      <td>2465.0</td>\n",
       "      <td>65.952</td>\n",
       "    </tr>\n",
       "    <tr>\n",
       "      <th>379</th>\n",
       "      <td>2469.8</td>\n",
       "      <td>65.970</td>\n",
       "    </tr>\n",
       "  </tbody>\n",
       "</table>\n",
       "<p>378 rows × 2 columns</p>\n",
       "</div>"
      ],
      "text/plain": [
       "     Viscosity (uPa*s)  Density (mol/l)\n",
       "2               1791.4           55.497\n",
       "3               1787.7           55.544\n",
       "4               1784.0           55.591\n",
       "5               1780.4           55.637\n",
       "6               1776.9           55.684\n",
       "..                 ...              ...\n",
       "375             2450.9           65.898\n",
       "376             2455.6           65.916\n",
       "377             2460.3           65.934\n",
       "378             2465.0           65.952\n",
       "379             2469.8           65.970\n",
       "\n",
       "[378 rows x 2 columns]"
      ]
     },
     "execution_count": 32,
     "metadata": {},
     "output_type": "execute_result"
    }
   ],
   "source": [
    "visco_density"
   ]
  },
  {
   "cell_type": "code",
   "execution_count": 33,
   "id": "260591f5",
   "metadata": {},
   "outputs": [],
   "source": [
    "visco_density.columns = ['Viscosity', 'Density']"
   ]
  },
  {
   "cell_type": "code",
   "execution_count": 34,
   "id": "95cc6249",
   "metadata": {},
   "outputs": [
    {
     "data": {
      "text/html": [
       "<div>\n",
       "<style scoped>\n",
       "    .dataframe tbody tr th:only-of-type {\n",
       "        vertical-align: middle;\n",
       "    }\n",
       "\n",
       "    .dataframe tbody tr th {\n",
       "        vertical-align: top;\n",
       "    }\n",
       "\n",
       "    .dataframe thead th {\n",
       "        text-align: right;\n",
       "    }\n",
       "</style>\n",
       "<table border=\"1\" class=\"dataframe\">\n",
       "  <thead>\n",
       "    <tr style=\"text-align: right;\">\n",
       "      <th></th>\n",
       "      <th>Viscosity</th>\n",
       "      <th>Density</th>\n",
       "    </tr>\n",
       "  </thead>\n",
       "  <tbody>\n",
       "    <tr>\n",
       "      <th>2</th>\n",
       "      <td>1791.4</td>\n",
       "      <td>55.497</td>\n",
       "    </tr>\n",
       "    <tr>\n",
       "      <th>3</th>\n",
       "      <td>1787.7</td>\n",
       "      <td>55.544</td>\n",
       "    </tr>\n",
       "    <tr>\n",
       "      <th>4</th>\n",
       "      <td>1784.0</td>\n",
       "      <td>55.591</td>\n",
       "    </tr>\n",
       "    <tr>\n",
       "      <th>5</th>\n",
       "      <td>1780.4</td>\n",
       "      <td>55.637</td>\n",
       "    </tr>\n",
       "    <tr>\n",
       "      <th>6</th>\n",
       "      <td>1776.9</td>\n",
       "      <td>55.684</td>\n",
       "    </tr>\n",
       "    <tr>\n",
       "      <th>...</th>\n",
       "      <td>...</td>\n",
       "      <td>...</td>\n",
       "    </tr>\n",
       "    <tr>\n",
       "      <th>375</th>\n",
       "      <td>2450.9</td>\n",
       "      <td>65.898</td>\n",
       "    </tr>\n",
       "    <tr>\n",
       "      <th>376</th>\n",
       "      <td>2455.6</td>\n",
       "      <td>65.916</td>\n",
       "    </tr>\n",
       "    <tr>\n",
       "      <th>377</th>\n",
       "      <td>2460.3</td>\n",
       "      <td>65.934</td>\n",
       "    </tr>\n",
       "    <tr>\n",
       "      <th>378</th>\n",
       "      <td>2465.0</td>\n",
       "      <td>65.952</td>\n",
       "    </tr>\n",
       "    <tr>\n",
       "      <th>379</th>\n",
       "      <td>2469.8</td>\n",
       "      <td>65.970</td>\n",
       "    </tr>\n",
       "  </tbody>\n",
       "</table>\n",
       "<p>378 rows × 2 columns</p>\n",
       "</div>"
      ],
      "text/plain": [
       "     Viscosity  Density\n",
       "2       1791.4   55.497\n",
       "3       1787.7   55.544\n",
       "4       1784.0   55.591\n",
       "5       1780.4   55.637\n",
       "6       1776.9   55.684\n",
       "..         ...      ...\n",
       "375     2450.9   65.898\n",
       "376     2455.6   65.916\n",
       "377     2460.3   65.934\n",
       "378     2465.0   65.952\n",
       "379     2469.8   65.970\n",
       "\n",
       "[378 rows x 2 columns]"
      ]
     },
     "execution_count": 34,
     "metadata": {},
     "output_type": "execute_result"
    }
   ],
   "source": [
    "visco_density"
   ]
  },
  {
   "cell_type": "code",
   "execution_count": 35,
   "id": "5cc73352",
   "metadata": {},
   "outputs": [
    {
     "data": {
      "text/plain": [
       "Text(0, 0.5, 'Density (mol/l)')"
      ]
     },
     "execution_count": 35,
     "metadata": {},
     "output_type": "execute_result"
    },
    {
     "data": {
      "image/png": "[encoded data removed]",
      "text/plain": [
       "<Figure size 432x288 with 1 Axes>"
      ]
     },
     "metadata": {
      "needs_background": "light"
     },
     "output_type": "display_data"
    }
   ],
   "source": [
    "plt.scatter(visco_density['Viscosity'],visco_density['Density'])\n",
    "plt.xlabel('Viscosity (uPa*s)')\n",
    "plt.ylabel('Density (mol/l)')"
   ]
  },
  {
   "cell_type": "code",
   "execution_count": 36,
   "id": "b6bfbdbb",
   "metadata": {},
   "outputs": [
    {
     "data": {
      "text/plain": [
       "<seaborn.axisgrid.FacetGrid at 0x28594516ac0>"
      ]
     },
     "execution_count": 36,
     "metadata": {},
     "output_type": "execute_result"
    },
    {
     "data": {
      "image/png": "[encoded data removed]",
      "text/plain": [
       "<Figure size 360x360 with 1 Axes>"
      ]
     },
     "metadata": {
      "needs_background": "light"
     },
     "output_type": "display_data"
    }
   ],
   "source": [
    "sns.displot(visco_density['Viscosity'])"
   ]
  },
  {
   "cell_type": "code",
   "execution_count": 37,
   "id": "18c7bb62",
   "metadata": {},
   "outputs": [
    {
     "name": "stderr",
     "output_type": "stream",
     "text": [
      "C:\\Users\\MY PC\\anaconda3\\lib\\site-packages\\seaborn\\_decorators.py:36: FutureWarning: Pass the following variable as a keyword arg: x. From version 0.12, the only valid positional argument will be `data`, and passing other arguments without an explicit keyword will result in an error or misinterpretation.\n",
      "  warnings.warn(\n"
     ]
    },
    {
     "data": {
      "text/plain": [
       "<AxesSubplot:xlabel='Viscosity'>"
      ]
     },
     "execution_count": 37,
     "metadata": {},
     "output_type": "execute_result"
    },
    {
     "data": {
      "image/png": "[encoded data removed]",
      "text/plain": [
       "<Figure size 432x288 with 1 Axes>"
      ]
     },
     "metadata": {
      "needs_background": "light"
     },
     "output_type": "display_data"
    }
   ],
   "source": [
    "sns.boxplot(visco_density['Viscosity'])"
   ]
  },
  {
   "cell_type": "code",
   "execution_count": 38,
   "id": "90d1c74d",
   "metadata": {},
   "outputs": [
    {
     "data": {
      "text/plain": [
       "<seaborn.axisgrid.FacetGrid at 0x28594650130>"
      ]
     },
     "execution_count": 38,
     "metadata": {},
     "output_type": "execute_result"
    },
    {
     "data": {
      "image/png": "[encoded data removed]",
      "text/plain": [
       "<Figure size 360x360 with 1 Axes>"
      ]
     },
     "metadata": {
      "needs_background": "light"
     },
     "output_type": "display_data"
    }
   ],
   "source": [
    "sns.displot(visco_density['Density'])"
   ]
  },
  {
   "cell_type": "code",
   "execution_count": 39,
   "id": "8ca8b32c",
   "metadata": {},
   "outputs": [
    {
     "name": "stderr",
     "output_type": "stream",
     "text": [
      "C:\\Users\\MY PC\\anaconda3\\lib\\site-packages\\seaborn\\_decorators.py:36: FutureWarning: Pass the following variable as a keyword arg: x. From version 0.12, the only valid positional argument will be `data`, and passing other arguments without an explicit keyword will result in an error or misinterpretation.\n",
      "  warnings.warn(\n"
     ]
    },
    {
     "data": {
      "text/plain": [
       "<AxesSubplot:xlabel='Density'>"
      ]
     },
     "execution_count": 39,
     "metadata": {},
     "output_type": "execute_result"
    },
    {
     "data": {
      "image/png": "[encoded data removed]",
      "text/plain": [
       "<Figure size 432x288 with 1 Axes>"
      ]
     },
     "metadata": {
      "needs_background": "light"
     },
     "output_type": "display_data"
    }
   ],
   "source": [
    "sns.boxplot(visco_density['Density'])"
   ]
  },
  {
   "cell_type": "code",
   "execution_count": 40,
   "id": "c2e0b356",
   "metadata": {},
   "outputs": [
    {
     "data": {
      "text/html": [
       "<div>\n",
       "<style scoped>\n",
       "    .dataframe tbody tr th:only-of-type {\n",
       "        vertical-align: middle;\n",
       "    }\n",
       "\n",
       "    .dataframe tbody tr th {\n",
       "        vertical-align: top;\n",
       "    }\n",
       "\n",
       "    .dataframe thead th {\n",
       "        text-align: right;\n",
       "    }\n",
       "</style>\n",
       "<table border=\"1\" class=\"dataframe\">\n",
       "  <thead>\n",
       "    <tr style=\"text-align: right;\">\n",
       "      <th></th>\n",
       "      <th>Viscosity</th>\n",
       "      <th>Density</th>\n",
       "    </tr>\n",
       "  </thead>\n",
       "  <tbody>\n",
       "    <tr>\n",
       "      <th>2</th>\n",
       "      <td>1791.4</td>\n",
       "      <td>55.497</td>\n",
       "    </tr>\n",
       "    <tr>\n",
       "      <th>3</th>\n",
       "      <td>1787.7</td>\n",
       "      <td>55.544</td>\n",
       "    </tr>\n",
       "    <tr>\n",
       "      <th>4</th>\n",
       "      <td>1784.0</td>\n",
       "      <td>55.591</td>\n",
       "    </tr>\n",
       "    <tr>\n",
       "      <th>5</th>\n",
       "      <td>1780.4</td>\n",
       "      <td>55.637</td>\n",
       "    </tr>\n",
       "    <tr>\n",
       "      <th>6</th>\n",
       "      <td>1776.9</td>\n",
       "      <td>55.684</td>\n",
       "    </tr>\n",
       "    <tr>\n",
       "      <th>...</th>\n",
       "      <td>...</td>\n",
       "      <td>...</td>\n",
       "    </tr>\n",
       "    <tr>\n",
       "      <th>375</th>\n",
       "      <td>2450.9</td>\n",
       "      <td>65.898</td>\n",
       "    </tr>\n",
       "    <tr>\n",
       "      <th>376</th>\n",
       "      <td>2455.6</td>\n",
       "      <td>65.916</td>\n",
       "    </tr>\n",
       "    <tr>\n",
       "      <th>377</th>\n",
       "      <td>2460.3</td>\n",
       "      <td>65.934</td>\n",
       "    </tr>\n",
       "    <tr>\n",
       "      <th>378</th>\n",
       "      <td>2465.0</td>\n",
       "      <td>65.952</td>\n",
       "    </tr>\n",
       "    <tr>\n",
       "      <th>379</th>\n",
       "      <td>2469.8</td>\n",
       "      <td>65.970</td>\n",
       "    </tr>\n",
       "  </tbody>\n",
       "</table>\n",
       "<p>378 rows × 2 columns</p>\n",
       "</div>"
      ],
      "text/plain": [
       "     Viscosity  Density\n",
       "2       1791.4   55.497\n",
       "3       1787.7   55.544\n",
       "4       1784.0   55.591\n",
       "5       1780.4   55.637\n",
       "6       1776.9   55.684\n",
       "..         ...      ...\n",
       "375     2450.9   65.898\n",
       "376     2455.6   65.916\n",
       "377     2460.3   65.934\n",
       "378     2465.0   65.952\n",
       "379     2469.8   65.970\n",
       "\n",
       "[378 rows x 2 columns]"
      ]
     },
     "execution_count": 40,
     "metadata": {},
     "output_type": "execute_result"
    }
   ],
   "source": [
    "visco_density"
   ]
  },
  {
   "cell_type": "code",
   "execution_count": 41,
   "id": "52274081",
   "metadata": {},
   "outputs": [
    {
     "data": {
      "text/plain": [
       "2      1791.4\n",
       "3      1787.7\n",
       "4      1784.0\n",
       "5      1780.4\n",
       "6      1776.9\n",
       "        ...  \n",
       "375    2450.9\n",
       "376    2455.6\n",
       "377    2460.3\n",
       "378    2465.0\n",
       "379    2469.8\n",
       "Name: Viscosity, Length: 378, dtype: float64"
      ]
     },
     "execution_count": 41,
     "metadata": {},
     "output_type": "execute_result"
    }
   ],
   "source": [
    "visco_density.iloc[:,0]"
   ]
  },
  {
   "cell_type": "code",
   "execution_count": 42,
   "id": "ffaf260b",
   "metadata": {},
   "outputs": [
    {
     "data": {
      "text/plain": [
       "2      55.497\n",
       "3      55.544\n",
       "4      55.591\n",
       "5      55.637\n",
       "6      55.684\n",
       "        ...  \n",
       "375    65.898\n",
       "376    65.916\n",
       "377    65.934\n",
       "378    65.952\n",
       "379    65.970\n",
       "Name: Density, Length: 378, dtype: float64"
      ]
     },
     "execution_count": 42,
     "metadata": {},
     "output_type": "execute_result"
    }
   ],
   "source": [
    "visco_density.iloc[:,1]"
   ]
  },
  {
   "cell_type": "code",
   "execution_count": null,
   "id": "3c98817d",
   "metadata": {},
   "outputs": [],
   "source": []
  },
  {
   "cell_type": "code",
   "execution_count": 43,
   "id": "0cbc3e4d",
   "metadata": {},
   "outputs": [],
   "source": [
    "X = visco_density['Viscosity'].to_numpy().reshape(-1, 1)\n",
    "y = visco_density['Density'].to_numpy().reshape(-1, 1)"
   ]
  },
  {
   "cell_type": "code",
   "execution_count": 44,
   "id": "7b9d0d0c",
   "metadata": {
    "scrolled": true
   },
   "outputs": [],
   "source": [
    "X = X.reshape(-1, 1)\n",
    "y = y.reshape(-1, 1)"
   ]
  },
  {
   "cell_type": "code",
   "execution_count": 45,
   "id": "dd42fc7d",
   "metadata": {},
   "outputs": [
    {
     "data": {
      "text/plain": [
       "(2, (378, 1))"
      ]
     },
     "execution_count": 45,
     "metadata": {},
     "output_type": "execute_result"
    }
   ],
   "source": [
    "X.ndim, X.shape"
   ]
  },
  {
   "cell_type": "code",
   "execution_count": 46,
   "id": "f1670194",
   "metadata": {},
   "outputs": [
    {
     "data": {
      "text/plain": [
       "(2, (378, 1))"
      ]
     },
     "execution_count": 46,
     "metadata": {},
     "output_type": "execute_result"
    }
   ],
   "source": [
    "y.ndim, y.shape"
   ]
  },
  {
   "cell_type": "code",
   "execution_count": 47,
   "id": "7cc87621",
   "metadata": {},
   "outputs": [],
   "source": [
    "from sklearn.model_selection import train_test_split\n",
    "X_train,X_test,y_train,y_test = train_test_split(X,y,test_size=0.2,random_state=2)"
   ]
  },
  {
   "cell_type": "code",
   "execution_count": 48,
   "id": "488026da",
   "metadata": {},
   "outputs": [],
   "source": [
    "from sklearn.linear_model import LinearRegression"
   ]
  },
  {
   "cell_type": "code",
   "execution_count": 49,
   "id": "121580e2",
   "metadata": {},
   "outputs": [],
   "source": [
    "lr = LinearRegression()"
   ]
  },
  {
   "cell_type": "code",
   "execution_count": 50,
   "id": "091e472d",
   "metadata": {},
   "outputs": [
    {
     "data": {
      "text/plain": [
       "LinearRegression()"
      ]
     },
     "execution_count": 50,
     "metadata": {},
     "output_type": "execute_result"
    }
   ],
   "source": [
    "lr.fit(X_train, y_train)"
   ]
  },
  {
   "cell_type": "code",
   "execution_count": 51,
   "id": "8e94e74d",
   "metadata": {},
   "outputs": [
    {
     "data": {
      "text/plain": [
       "(2, (302, 1))"
      ]
     },
     "execution_count": 51,
     "metadata": {},
     "output_type": "execute_result"
    }
   ],
   "source": [
    "X_train.ndim, X_train.shape"
   ]
  },
  {
   "cell_type": "code",
   "execution_count": 52,
   "id": "c10d7505",
   "metadata": {},
   "outputs": [
    {
     "data": {
      "text/plain": [
       "(2, (302, 1))"
      ]
     },
     "execution_count": 52,
     "metadata": {},
     "output_type": "execute_result"
    }
   ],
   "source": [
    "y_train.ndim, y_train.shape"
   ]
  },
  {
   "cell_type": "code",
   "execution_count": 53,
   "id": "8e09254d",
   "metadata": {},
   "outputs": [
    {
     "data": {
      "text/plain": [
       "(2, (76, 1))"
      ]
     },
     "execution_count": 53,
     "metadata": {},
     "output_type": "execute_result"
    }
   ],
   "source": [
    "X_test.ndim, y_test.shape"
   ]
  },
  {
   "cell_type": "code",
   "execution_count": 54,
   "id": "da095f61",
   "metadata": {},
   "outputs": [
    {
     "data": {
      "text/plain": [
       "(2, (76, 1))"
      ]
     },
     "execution_count": 54,
     "metadata": {},
     "output_type": "execute_result"
    }
   ],
   "source": [
    "y_test.ndim, y_test.shape"
   ]
  },
  {
   "cell_type": "code",
   "execution_count": 55,
   "id": "51138567",
   "metadata": {},
   "outputs": [
    {
     "data": {
      "text/plain": [
       "array([1780.4])"
      ]
     },
     "execution_count": 55,
     "metadata": {},
     "output_type": "execute_result"
    }
   ],
   "source": [
    "X_test[-1]"
   ]
  },
  {
   "cell_type": "code",
   "execution_count": 56,
   "id": "3767eda4",
   "metadata": {},
   "outputs": [
    {
     "data": {
      "text/plain": [
       "array([55.637])"
      ]
     },
     "execution_count": 56,
     "metadata": {},
     "output_type": "execute_result"
    }
   ],
   "source": [
    "y_test[-1]"
   ]
  },
  {
   "cell_type": "code",
   "execution_count": 57,
   "id": "33530834",
   "metadata": {},
   "outputs": [
    {
     "data": {
      "text/plain": [
       "array([[60.4679184]])"
      ]
     },
     "execution_count": 57,
     "metadata": {},
     "output_type": "execute_result"
    }
   ],
   "source": [
    "lr.predict(X_test[[1]])"
   ]
  },
  {
   "cell_type": "code",
   "execution_count": 58,
   "id": "27735cdc",
   "metadata": {},
   "outputs": [],
   "source": [
    "#Linear Regresion Model for Density Prediction"
   ]
  },
  {
   "cell_type": "code",
   "execution_count": 59,
   "id": "dd336e03",
   "metadata": {},
   "outputs": [
    {
     "name": "stdout",
     "output_type": "stream",
     "text": [
      "0.002000570297241211\n",
      "[[59.21791574]]\n"
     ]
    }
   ],
   "source": [
    "#Linear Regresion Model for Density Prediction\n",
    "import time\n",
    "import pandas as pd\n",
    "import numpy as np\n",
    "from sklearn.model_selection import train_test_split\n",
    "from sklearn.linear_model import LinearRegression\n",
    "from sklearn.metrics import accuracy_score\n",
    "\n",
    "df = pd.read_csv('fluid.txt', sep='\\t')\n",
    "df = df.iloc[2:,:]\n",
    "\n",
    "visco_density = df[['Viscosity (uPa*s)', 'Density (mol/l)']]\n",
    "visco_density.columns = ['Viscosity', 'Density']\n",
    "\n",
    "X = visco_density['Viscosity'].to_numpy().reshape(-1, 1)\n",
    "y = visco_density['Density'].to_numpy().reshape(-1, 1)\n",
    "\n",
    "X_train,X_test,y_train,y_test = train_test_split(X,y,test_size=0.2,random_state=2)\n",
    "\n",
    "lr = LinearRegression()\n",
    "\n",
    "start= time.time()\n",
    "lr.fit(X_train, y_train)\n",
    "print(time.time() - start)\n",
    "\n",
    "y_pred = lr.predict(X_test)\n",
    "\n",
    "print(lr.predict([X_test[0]]))\n",
    "\n",
    "#Accuracy calculatiuons"
   ]
  },
  {
   "cell_type": "code",
   "execution_count": 93,
   "id": "7181a610",
   "metadata": {},
   "outputs": [
    {
     "name": "stdout",
     "output_type": "stream",
     "text": [
      "Mean Absolute Error:  1.420365238314642\n",
      "Mean Squared Error:  3.037506137693109\n",
      "Root Mean Squared Error:  1.191790769520658\n",
      "R2 Score:  0.6381645725854281\n",
      "Adjusted R2 Score:  -0.3601381812108872\n"
     ]
    }
   ],
   "source": [
    "# Accuracy calculatiuons\n",
    "from sklearn.metrics import mean_absolute_error, mean_squared_error, r2_score\n",
    "\n",
    "# Mean Absolute Error:\n",
    "print(\"Mean Absolute Error: \", mean_absolute_error(y_test, y_pred))\n",
    "# Gives the error in same unit as of output column as inthis case of density(mol/l)\n",
    "# Predicted value as error of 1.4203652383146432 (mol/l) as of actucal value of density.\n",
    "# Advantage is that MAE can handle the errors better as compared to other errors (Roboust for Outliers)\n",
    "# MAE = (|y1 - y^1| + |y2 - y^2| + ... + |yn - y^n|)/n\n",
    "\n",
    "# Mean Squared Error:\n",
    "print(\"Mean Squared Error: \", mean_squared_error(y_test, y_pred))\n",
    "# Mean Squared Error is same as MAE but it is more differaciable at Zero, where MAE is not.\n",
    "# Out out is in Squared unit.\n",
    "# MSE More penalised at outliner (not Roboust to Outliners)\n",
    "\n",
    "# Root Mean Squared Error:\n",
    "print(\"Root Mean Squared Error: \", np.sqrt(mean_absolute_error(y_test, y_pred)))\n",
    "# Root Mean Squared Error is same as squared root of MSE \n",
    "# Gives the error in same unit as of output column as inthis case of density(mol/l)\n",
    "\n",
    "# calculating R2 Score\n",
    "print(\"R2 Score: \", r2_score(y_test, y_pred))\n",
    "# R2 Score is also called as coeficient of determination\n",
    "# if your R2 score is more close to 1 then model is good, if more close to 0 then model is not good\n",
    "# R2 score tells that, How much your linear regression line is better than mean line\n",
    "# R2 score tells us that R2 score amount of variance is explained in output column by inpute column\n",
    "\n",
    "#calculating Adjested R2 Score\n",
    "r2 = r2_score(y_test, y_pred)\n",
    "print(\"Adjusted R2 Score: \", (1 - ((1-r2)*(378-1)))/(378-1-1))"
   ]
  },
  {
   "cell_type": "code",
   "execution_count": 73,
   "id": "238cdcd6",
   "metadata": {},
   "outputs": [],
   "source": [
    "temp_visco_density = df[['Temperature (K)', 'Viscosity (uPa*s)', 'Density (mol/l)']]"
   ]
  },
  {
   "cell_type": "code",
   "execution_count": 74,
   "id": "f2fea7b4",
   "metadata": {},
   "outputs": [
    {
     "data": {
      "text/html": [
       "<div>\n",
       "<style scoped>\n",
       "    .dataframe tbody tr th:only-of-type {\n",
       "        vertical-align: middle;\n",
       "    }\n",
       "\n",
       "    .dataframe tbody tr th {\n",
       "        vertical-align: top;\n",
       "    }\n",
       "\n",
       "    .dataframe thead th {\n",
       "        text-align: right;\n",
       "    }\n",
       "</style>\n",
       "<table border=\"1\" class=\"dataframe\">\n",
       "  <thead>\n",
       "    <tr style=\"text-align: right;\">\n",
       "      <th></th>\n",
       "      <th>Temperature (K)</th>\n",
       "      <th>Viscosity (uPa*s)</th>\n",
       "      <th>Density (mol/l)</th>\n",
       "    </tr>\n",
       "  </thead>\n",
       "  <tbody>\n",
       "    <tr>\n",
       "      <th>2</th>\n",
       "      <td>273.16</td>\n",
       "      <td>1791.4</td>\n",
       "      <td>55.497</td>\n",
       "    </tr>\n",
       "    <tr>\n",
       "      <th>3</th>\n",
       "      <td>273.16</td>\n",
       "      <td>1787.7</td>\n",
       "      <td>55.544</td>\n",
       "    </tr>\n",
       "    <tr>\n",
       "      <th>4</th>\n",
       "      <td>273.16</td>\n",
       "      <td>1784.0</td>\n",
       "      <td>55.591</td>\n",
       "    </tr>\n",
       "    <tr>\n",
       "      <th>5</th>\n",
       "      <td>273.16</td>\n",
       "      <td>1780.4</td>\n",
       "      <td>55.637</td>\n",
       "    </tr>\n",
       "    <tr>\n",
       "      <th>6</th>\n",
       "      <td>273.16</td>\n",
       "      <td>1776.9</td>\n",
       "      <td>55.684</td>\n",
       "    </tr>\n",
       "    <tr>\n",
       "      <th>...</th>\n",
       "      <td>...</td>\n",
       "      <td>...</td>\n",
       "      <td>...</td>\n",
       "    </tr>\n",
       "    <tr>\n",
       "      <th>375</th>\n",
       "      <td>273.16</td>\n",
       "      <td>2450.9</td>\n",
       "      <td>65.898</td>\n",
       "    </tr>\n",
       "    <tr>\n",
       "      <th>376</th>\n",
       "      <td>273.16</td>\n",
       "      <td>2455.6</td>\n",
       "      <td>65.916</td>\n",
       "    </tr>\n",
       "    <tr>\n",
       "      <th>377</th>\n",
       "      <td>273.16</td>\n",
       "      <td>2460.3</td>\n",
       "      <td>65.934</td>\n",
       "    </tr>\n",
       "    <tr>\n",
       "      <th>378</th>\n",
       "      <td>273.16</td>\n",
       "      <td>2465.0</td>\n",
       "      <td>65.952</td>\n",
       "    </tr>\n",
       "    <tr>\n",
       "      <th>379</th>\n",
       "      <td>273.16</td>\n",
       "      <td>2469.8</td>\n",
       "      <td>65.970</td>\n",
       "    </tr>\n",
       "  </tbody>\n",
       "</table>\n",
       "<p>378 rows × 3 columns</p>\n",
       "</div>"
      ],
      "text/plain": [
       "     Temperature (K)  Viscosity (uPa*s)  Density (mol/l)\n",
       "2             273.16             1791.4           55.497\n",
       "3             273.16             1787.7           55.544\n",
       "4             273.16             1784.0           55.591\n",
       "5             273.16             1780.4           55.637\n",
       "6             273.16             1776.9           55.684\n",
       "..               ...                ...              ...\n",
       "375           273.16             2450.9           65.898\n",
       "376           273.16             2455.6           65.916\n",
       "377           273.16             2460.3           65.934\n",
       "378           273.16             2465.0           65.952\n",
       "379           273.16             2469.8           65.970\n",
       "\n",
       "[378 rows x 3 columns]"
      ]
     },
     "execution_count": 74,
     "metadata": {},
     "output_type": "execute_result"
    }
   ],
   "source": [
    "temp_visco_density.columns = ['Temperature (K)', 'Viscosity (uPa*s)', 'Density (mol/l)']"
   ]
  },
  {
   "cell_type": "code",
   "execution_count": 92,
   "id": "3e92f0a0",
   "metadata": {},
   "outputs": [
    {
     "name": "stdout",
     "output_type": "stream",
     "text": [
      "0.003997325897216797\n",
      "Mean Absolute Error:  1.420365238314642\n",
      "Mean Squared Error:  3.037506137693109\n",
      "Root Mean Squared Error:  1.191790769520658\n",
      "R2 Score:  0.6381645725854281\n",
      "Adjusted R2 Score:  -0.3601381812108872\n"
     ]
    }
   ],
   "source": [
    "#Linear Regresion Model for Density Prediction using Two input columns\n",
    "import time\n",
    "import pandas as pd\n",
    "import numpy as np\n",
    "from sklearn.model_selection import train_test_split\n",
    "from sklearn.linear_model import LinearRegression\n",
    "from sklearn.metrics import accuracy_score\n",
    "\n",
    "df = pd.read_csv('fluid.txt', sep='\\t')\n",
    "df = df.iloc[2:,:]\n",
    "\n",
    "temp_visco_density = df[['Temperature (K)', 'Viscosity (uPa*s)', 'Density (mol/l)']]\n",
    "\n",
    "X = temp_visco_density.iloc[:, 0:2]\n",
    "y = temp_visco_density.iloc[:,-1].to_numpy().reshape(-1, 1)\n",
    "\n",
    "X_train,X_test,y_train,y_test = train_test_split(X,y,test_size=0.2,random_state=2)\n",
    "\n",
    "lr = LinearRegression()\n",
    "\n",
    "start= time.time()\n",
    "lr.fit(X_train, y_train)\n",
    "print(time.time() - start)\n",
    "\n",
    "y_pred = lr.predict(X_test)\n",
    "\n",
    "# Error and Accuracy calculatiuons\n",
    "print(\"Mean Absolute Error: \", mean_absolute_error(y_test, y_pred))\n",
    "print(\"Mean Squared Error: \", mean_squared_error(y_test, y_pred))\n",
    "print(\"Root Mean Squared Error: \", np.sqrt(mean_absolute_error(y_test, y_pred)))\n",
    "print(\"R2 Score: \", r2_score(y_test, y_pred))\n",
    "\n",
    "#calculating Adjested R2 Score\n",
    "r2 = r2_score(y_test, y_pred)\n",
    "print(\"Adjusted R2 Score: \", (1 - ((1-r2)*(378-1)))/(378-1-1))"
   ]
  },
  {
   "cell_type": "code",
   "execution_count": null,
   "id": "39f94990",
   "metadata": {},
   "outputs": [],
   "source": []
  }
 ],
 "metadata": {
  "kernelspec": {
   "display_name": "Python 3 (ipykernel)",
   "language": "python",
   "name": "python3"
  },
  "language_info": {
   "codemirror_mode": {
    "name": "ipython",
    "version": 3
   },
   "file_extension": ".py",
   "mimetype": "text/x-python",
   "name": "python",
   "nbconvert_exporter": "python",
   "pygments_lexer": "ipython3",
   "version": "3.9.12"
  }
 },
 "nbformat": 4,
 "nbformat_minor": 5
}
